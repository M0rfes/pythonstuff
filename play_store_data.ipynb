{
 "cells": [
  {
   "cell_type": "code",
   "execution_count": 22,
   "metadata": {},
   "outputs": [],
   "source": [
    "import pandas as pd\n",
    "import numpy as np\n",
    "import matplotlib.pyplot as plt"
   ]
  },
  {
   "cell_type": "code",
   "execution_count": 23,
   "metadata": {},
   "outputs": [],
   "source": [
    "df2 = pd.read_excel('./data2.csv').dropna()"
   ]
  },
  {
   "cell_type": "code",
   "execution_count": 24,
   "metadata": {},
   "outputs": [
    {
     "data": {
      "text/html": "<div>\n<style scoped>\n    .dataframe tbody tr th:only-of-type {\n        vertical-align: middle;\n    }\n\n    .dataframe tbody tr th {\n        vertical-align: top;\n    }\n\n    .dataframe thead th {\n        text-align: right;\n    }\n</style>\n<table border=\"1\" class=\"dataframe\">\n  <thead>\n    <tr style=\"text-align: right;\">\n      <th></th>\n      <th>App</th>\n      <th>Category</th>\n      <th>Rating</th>\n      <th>Reviews</th>\n      <th>Size</th>\n      <th>Installs</th>\n      <th>Type</th>\n      <th>Price</th>\n      <th>Content Rating</th>\n      <th>Genres</th>\n      <th>Last Updated</th>\n      <th>Current Ver</th>\n      <th>Android Ver</th>\n    </tr>\n  </thead>\n  <tbody>\n    <tr>\n      <td>0</td>\n      <td>Photo Editor &amp; Candy Camera &amp; Grid &amp; ScrapBook</td>\n      <td>ART_AND_DESIGN</td>\n      <td>4.1</td>\n      <td>159</td>\n      <td>19M</td>\n      <td>10,000+</td>\n      <td>Free</td>\n      <td>0</td>\n      <td>Everyone</td>\n      <td>Art &amp; Design</td>\n      <td>2018-01-07 00:00:00</td>\n      <td>1.0.0</td>\n      <td>4.0.3 and up</td>\n    </tr>\n    <tr>\n      <td>1</td>\n      <td>Coloring book moana</td>\n      <td>ART_AND_DESIGN</td>\n      <td>3.9</td>\n      <td>967</td>\n      <td>14M</td>\n      <td>500,000+</td>\n      <td>Free</td>\n      <td>0</td>\n      <td>Everyone</td>\n      <td>Art &amp; Design;Pretend Play</td>\n      <td>2018-01-15 00:00:00</td>\n      <td>2.0.0</td>\n      <td>4.0.3 and up</td>\n    </tr>\n    <tr>\n      <td>2</td>\n      <td>U Launcher Lite â€“ FREE Live Cool Themes, Hid...</td>\n      <td>ART_AND_DESIGN</td>\n      <td>4.7</td>\n      <td>87510</td>\n      <td>8.7M</td>\n      <td>5,000,000+</td>\n      <td>Free</td>\n      <td>0</td>\n      <td>Everyone</td>\n      <td>Art &amp; Design</td>\n      <td>2018-08-01 00:00:00</td>\n      <td>1.2.4</td>\n      <td>4.0.3 and up</td>\n    </tr>\n    <tr>\n      <td>3</td>\n      <td>Sketch - Draw &amp; Paint</td>\n      <td>ART_AND_DESIGN</td>\n      <td>4.5</td>\n      <td>215644</td>\n      <td>25M</td>\n      <td>50,000,000+</td>\n      <td>Free</td>\n      <td>0</td>\n      <td>Teen</td>\n      <td>Art &amp; Design</td>\n      <td>2018-06-08 00:00:00</td>\n      <td>Varies with device</td>\n      <td>4.2 and up</td>\n    </tr>\n    <tr>\n      <td>4</td>\n      <td>Pixel Draw - Number Art Coloring Book</td>\n      <td>ART_AND_DESIGN</td>\n      <td>4.3</td>\n      <td>967</td>\n      <td>2.8M</td>\n      <td>100,000+</td>\n      <td>Free</td>\n      <td>0</td>\n      <td>Everyone</td>\n      <td>Art &amp; Design;Creativity</td>\n      <td>2018-06-20 00:00:00</td>\n      <td>1.1</td>\n      <td>4.4 and up</td>\n    </tr>\n  </tbody>\n</table>\n</div>",
      "text/plain": "                                                 App        Category  Rating  \\\n0     Photo Editor & Candy Camera & Grid & ScrapBook  ART_AND_DESIGN     4.1   \n1                                Coloring book moana  ART_AND_DESIGN     3.9   \n2  U Launcher Lite â€“ FREE Live Cool Themes, Hid...  ART_AND_DESIGN     4.7   \n3                              Sketch - Draw & Paint  ART_AND_DESIGN     4.5   \n4              Pixel Draw - Number Art Coloring Book  ART_AND_DESIGN     4.3   \n\n  Reviews  Size     Installs  Type Price Content Rating  \\\n0     159   19M      10,000+  Free     0       Everyone   \n1     967   14M     500,000+  Free     0       Everyone   \n2   87510  8.7M   5,000,000+  Free     0       Everyone   \n3  215644   25M  50,000,000+  Free     0           Teen   \n4     967  2.8M     100,000+  Free     0       Everyone   \n\n                      Genres         Last Updated         Current Ver  \\\n0               Art & Design  2018-01-07 00:00:00               1.0.0   \n1  Art & Design;Pretend Play  2018-01-15 00:00:00               2.0.0   \n2               Art & Design  2018-08-01 00:00:00               1.2.4   \n3               Art & Design  2018-06-08 00:00:00  Varies with device   \n4    Art & Design;Creativity  2018-06-20 00:00:00                 1.1   \n\n    Android Ver  \n0  4.0.3 and up  \n1  4.0.3 and up  \n2  4.0.3 and up  \n3    4.2 and up  \n4    4.4 and up  "
     },
     "execution_count": 24,
     "metadata": {},
     "output_type": "execute_result"
    }
   ],
   "source": [
    "df2.head()"
   ]
  },
  {
   "cell_type": "code",
   "execution_count": 25,
   "metadata": {},
   "outputs": [],
   "source": [
    "def number_of_installs(installs:str):\n",
    "    temp = installs.split(',')\n",
    "    head = temp[:-1]\n",
    "    tail = temp[-1]\n",
    "    tail = tail.split('+')[0]\n",
    "    return int(''.join([*head,tail]))"
   ]
  },
  {
   "cell_type": "code",
   "execution_count": 26,
   "metadata": {},
   "outputs": [],
   "source": [
    "df2[\"Installs\"] =  df2[\"Installs\"].apply(number_of_installs)"
   ]
  },
  {
   "cell_type": "code",
   "execution_count": 27,
   "metadata": {},
   "outputs": [
    {
     "data": {
      "text/html": "<div>\n<style scoped>\n    .dataframe tbody tr th:only-of-type {\n        vertical-align: middle;\n    }\n\n    .dataframe tbody tr th {\n        vertical-align: top;\n    }\n\n    .dataframe thead th {\n        text-align: right;\n    }\n</style>\n<table border=\"1\" class=\"dataframe\">\n  <thead>\n    <tr style=\"text-align: right;\">\n      <th></th>\n      <th>App</th>\n      <th>Category</th>\n      <th>Rating</th>\n      <th>Reviews</th>\n      <th>Size</th>\n      <th>Installs</th>\n      <th>Type</th>\n      <th>Price</th>\n      <th>Content Rating</th>\n      <th>Genres</th>\n      <th>Last Updated</th>\n      <th>Current Ver</th>\n      <th>Android Ver</th>\n    </tr>\n  </thead>\n  <tbody>\n    <tr>\n      <td>2014</td>\n      <td>YouTube Kids</td>\n      <td>FAMILY</td>\n      <td>4.5</td>\n      <td>470694</td>\n      <td>Varies with device</td>\n      <td>50000000</td>\n      <td>Free</td>\n      <td>0</td>\n      <td>Everyone</td>\n      <td>Entertainment;Music &amp; Video</td>\n      <td>2018-08-03 00:00:00</td>\n      <td>3.43.3</td>\n      <td>4.1 and up</td>\n    </tr>\n    <tr>\n      <td>2015</td>\n      <td>Candy Bomb</td>\n      <td>FAMILY</td>\n      <td>4.4</td>\n      <td>42145</td>\n      <td>20M</td>\n      <td>10000000</td>\n      <td>Free</td>\n      <td>0</td>\n      <td>Everyone</td>\n      <td>Casual;Brain Games</td>\n      <td>2018-07-04 00:00:00</td>\n      <td>2.9.3181</td>\n      <td>4.0.3 and up</td>\n    </tr>\n    <tr>\n      <td>2016</td>\n      <td>ROBLOX</td>\n      <td>FAMILY</td>\n      <td>4.5</td>\n      <td>4449910</td>\n      <td>67M</td>\n      <td>100000000</td>\n      <td>Free</td>\n      <td>0</td>\n      <td>Everyone 10+</td>\n      <td>Adventure;Action &amp; Adventure</td>\n      <td>2018-07-31 00:00:00</td>\n      <td>2.347.225742</td>\n      <td>4.1 and up</td>\n    </tr>\n    <tr>\n      <td>2017</td>\n      <td>Jewels Crush- Match 3 Puzzle</td>\n      <td>FAMILY</td>\n      <td>4.4</td>\n      <td>14774</td>\n      <td>19M</td>\n      <td>1000000</td>\n      <td>Free</td>\n      <td>0</td>\n      <td>Everyone</td>\n      <td>Casual;Brain Games</td>\n      <td>2018-07-23 00:00:00</td>\n      <td>1.9.3901</td>\n      <td>4.0.3 and up</td>\n    </tr>\n    <tr>\n      <td>2018</td>\n      <td>Coloring &amp; Learn</td>\n      <td>FAMILY</td>\n      <td>4.4</td>\n      <td>12753</td>\n      <td>51M</td>\n      <td>5000000</td>\n      <td>Free</td>\n      <td>0</td>\n      <td>Everyone</td>\n      <td>Educational;Creativity</td>\n      <td>2018-07-17 00:00:00</td>\n      <td>1.49</td>\n      <td>4.0.3 and up</td>\n    </tr>\n  </tbody>\n</table>\n</div>",
      "text/plain": "                               App Category  Rating  Reviews  \\\n2014                  YouTube Kids   FAMILY     4.5   470694   \n2015                    Candy Bomb   FAMILY     4.4    42145   \n2016                        ROBLOX   FAMILY     4.5  4449910   \n2017  Jewels Crush- Match 3 Puzzle   FAMILY     4.4    14774   \n2018              Coloring & Learn   FAMILY     4.4    12753   \n\n                    Size   Installs  Type Price Content Rating  \\\n2014  Varies with device   50000000  Free     0       Everyone   \n2015                 20M   10000000  Free     0       Everyone   \n2016                 67M  100000000  Free     0   Everyone 10+   \n2017                 19M    1000000  Free     0       Everyone   \n2018                 51M    5000000  Free     0       Everyone   \n\n                            Genres         Last Updated   Current Ver  \\\n2014   Entertainment;Music & Video  2018-08-03 00:00:00        3.43.3   \n2015            Casual;Brain Games  2018-07-04 00:00:00      2.9.3181   \n2016  Adventure;Action & Adventure  2018-07-31 00:00:00  2.347.225742   \n2017            Casual;Brain Games  2018-07-23 00:00:00      1.9.3901   \n2018        Educational;Creativity  2018-07-17 00:00:00          1.49   \n\n       Android Ver  \n2014    4.1 and up  \n2015  4.0.3 and up  \n2016    4.1 and up  \n2017  4.0.3 and up  \n2018  4.0.3 and up  "
     },
     "execution_count": 27,
     "metadata": {},
     "output_type": "execute_result"
    }
   ],
   "source": [
    "df2[df2[\"Category\"] == 'FAMILY'].head()"
   ]
  },
  {
   "cell_type": "code",
   "execution_count": 28,
   "metadata": {},
   "outputs": [],
   "source": [
    "categorys = []\n",
    "for category in df2['Category']:\n",
    "    if category in categorys:\n",
    "        pass\n",
    "    else:\n",
    "        categorys.append(category)"
   ]
  },
  {
   "cell_type": "code",
   "execution_count": 29,
   "metadata": {},
   "outputs": [],
   "source": [
    "installes = []\n",
    "for category in categorys:\n",
    "    total_install = df2[df2['Category'] == category]['Installs'].sum()\n",
    "    installes.append(total_install)"
   ]
  },
  {
   "cell_type": "code",
   "execution_count": 30,
   "metadata": {},
   "outputs": [],
   "source": [
    "cta_ins = pd.DataFrame(list(zip(categorys,installes)),columns =['Category', 'Installs'])"
   ]
  },
  {
   "cell_type": "code",
   "execution_count": 31,
   "metadata": {},
   "outputs": [],
   "source": [
    "total_installs = cta_ins['Installs'].sum()"
   ]
  },
  {
   "cell_type": "code",
   "execution_count": 32,
   "metadata": {},
   "outputs": [],
   "source": [
    "cta_ins['Installs'] = cta_ins['Installs'].apply(lambda x: (x*100)/total_installs)"
   ]
  },
  {
   "cell_type": "code",
   "execution_count": 33,
   "metadata": {},
   "outputs": [],
   "source": [
    "cta_ins.to_excel(\"percentage_download.xlsx\", index=False)"
   ]
  },
  {
   "cell_type": "code",
   "execution_count": 34,
   "metadata": {},
   "outputs": [],
   "source": [
    "cta_ins = cta_ins.sort_values(by=['Installs'])"
   ]
  },
  {
   "cell_type": "code",
   "execution_count": 35,
   "metadata": {},
   "outputs": [],
   "source": [
    "range_download = {'10,000 and 50,000':0,'50,000 and 150,000':0,'150,000 and 500,000':0,'500,000 and 5,000,000':0,'5,000,000+':0}\n",
    "for app in df2['Installs']:\n",
    "    if app > 10000 and app <= 50000:\n",
    "        range_download['10,000 and 50,000']+=1\n",
    "    elif app > 50000 and app <= 150000:\n",
    "        range_download['50,000 and 150,000']+=1\n",
    "    elif app > 150000 and app <= 500000:\n",
    "        range_download['150,000 and 500,000']+=1\n",
    "    elif app > 500000 and app <= 5000000:\n",
    "        range_download['500,000 and 5,000,000']+=1\n",
    "    else:\n",
    "        range_download['5,000,000+']+=1"
   ]
  },
  {
   "cell_type": "code",
   "execution_count": 36,
   "metadata": {},
   "outputs": [
    {
     "data": {
      "text/plain": "{'10,000 and 50,000': 466,\n '50,000 and 150,000': 1150,\n '150,000 and 500,000': 537,\n '500,000 and 5,000,000': 2328,\n '5,000,000+': 4878}"
     },
     "execution_count": 36,
     "metadata": {},
     "output_type": "execute_result"
    }
   ],
   "source": [
    "range_download"
   ]
  },
  {
   "cell_type": "code",
   "execution_count": 37,
   "metadata": {},
   "outputs": [],
   "source": [
    "ran_dow = pd.DataFrame(list(zip(ranges,values)),columns =['Ranges', 'Number of Downloads'])"
   ]
  },
  {
   "cell_type": "code",
   "execution_count": 38,
   "metadata": {},
   "outputs": [],
   "source": [
    "ran_dow.to_excel(\"number_of_download.xlsx\", index=False)"
   ]
  },
  {
   "cell_type": "code",
   "execution_count": 39,
   "metadata": {},
   "outputs": [
    {
     "data": {
      "text/plain": "0          Everyone\n1          Everyone\n2          Everyone\n3              Teen\n4          Everyone\n            ...    \n10834      Everyone\n10836      Everyone\n10837      Everyone\n10839    Mature 17+\n10840      Everyone\nName: Content Rating, Length: 9359, dtype: object"
     },
     "execution_count": 39,
     "metadata": {},
     "output_type": "execute_result"
    }
   ],
   "source": [
    "df2['Content Rating']"
   ]
  },
  {
   "cell_type": "code",
   "execution_count": 40,
   "metadata": {},
   "outputs": [],
   "source": [
    "ranges = []\n",
    "values = []\n",
    "for k,v in range_download.items():\n",
    "    ranges.append(k)\n",
    "    values.append(v)"
   ]
  },
  {
   "cell_type": "code",
   "execution_count": 43,
   "metadata": {},
   "outputs": [],
   "source": [
    "df = pd.read_csv('./data1.csv').dropna()"
   ]
  },
  {
   "cell_type": "code",
   "execution_count": 47,
   "metadata": {},
   "outputs": [
    {
     "data": {
      "text/plain": "0          Everyone\n1          Everyone\n2          Everyone\n3              Teen\n4          Everyone\n            ...    \n10834      Everyone\n10836      Everyone\n10837      Everyone\n10839    Mature 17+\n10840      Everyone\nName: Content Rating, Length: 9359, dtype: object"
     },
     "execution_count": 47,
     "metadata": {},
     "output_type": "execute_result"
    }
   ],
   "source": [
    "df2['Content Rating']"
   ]
  },
  {
   "cell_type": "code",
   "execution_count": 48,
   "metadata": {},
   "outputs": [
    {
     "data": {
      "text/html": "<div>\n<style scoped>\n    .dataframe tbody tr th:only-of-type {\n        vertical-align: middle;\n    }\n\n    .dataframe tbody tr th {\n        vertical-align: top;\n    }\n\n    .dataframe thead th {\n        text-align: right;\n    }\n</style>\n<table border=\"1\" class=\"dataframe\">\n  <thead>\n    <tr style=\"text-align: right;\">\n      <th></th>\n      <th>App</th>\n      <th>Category</th>\n      <th>Rating</th>\n      <th>Reviews</th>\n      <th>Size</th>\n      <th>Installs</th>\n      <th>Type</th>\n      <th>Price</th>\n      <th>Content Rating</th>\n      <th>Genres</th>\n      <th>Last Updated</th>\n      <th>Current Ver</th>\n      <th>Android Ver</th>\n    </tr>\n  </thead>\n  <tbody>\n    <tr>\n      <td>0</td>\n      <td>Photo Editor &amp; Candy Camera &amp; Grid &amp; ScrapBook</td>\n      <td>ART_AND_DESIGN</td>\n      <td>4.1</td>\n      <td>159</td>\n      <td>19M</td>\n      <td>10000</td>\n      <td>Free</td>\n      <td>0</td>\n      <td>Everyone</td>\n      <td>Art &amp; Design</td>\n      <td>2018-01-07 00:00:00</td>\n      <td>1.0.0</td>\n      <td>4.0.3 and up</td>\n    </tr>\n    <tr>\n      <td>1</td>\n      <td>Coloring book moana</td>\n      <td>ART_AND_DESIGN</td>\n      <td>3.9</td>\n      <td>967</td>\n      <td>14M</td>\n      <td>500000</td>\n      <td>Free</td>\n      <td>0</td>\n      <td>Everyone</td>\n      <td>Art &amp; Design;Pretend Play</td>\n      <td>2018-01-15 00:00:00</td>\n      <td>2.0.0</td>\n      <td>4.0.3 and up</td>\n    </tr>\n    <tr>\n      <td>2</td>\n      <td>U Launcher Lite â€“ FREE Live Cool Themes, Hid...</td>\n      <td>ART_AND_DESIGN</td>\n      <td>4.7</td>\n      <td>87510</td>\n      <td>8.7M</td>\n      <td>5000000</td>\n      <td>Free</td>\n      <td>0</td>\n      <td>Everyone</td>\n      <td>Art &amp; Design</td>\n      <td>2018-08-01 00:00:00</td>\n      <td>1.2.4</td>\n      <td>4.0.3 and up</td>\n    </tr>\n    <tr>\n      <td>3</td>\n      <td>Sketch - Draw &amp; Paint</td>\n      <td>ART_AND_DESIGN</td>\n      <td>4.5</td>\n      <td>215644</td>\n      <td>25M</td>\n      <td>50000000</td>\n      <td>Free</td>\n      <td>0</td>\n      <td>Teen</td>\n      <td>Art &amp; Design</td>\n      <td>2018-06-08 00:00:00</td>\n      <td>Varies with device</td>\n      <td>4.2 and up</td>\n    </tr>\n    <tr>\n      <td>4</td>\n      <td>Pixel Draw - Number Art Coloring Book</td>\n      <td>ART_AND_DESIGN</td>\n      <td>4.3</td>\n      <td>967</td>\n      <td>2.8M</td>\n      <td>100000</td>\n      <td>Free</td>\n      <td>0</td>\n      <td>Everyone</td>\n      <td>Art &amp; Design;Creativity</td>\n      <td>2018-06-20 00:00:00</td>\n      <td>1.1</td>\n      <td>4.4 and up</td>\n    </tr>\n  </tbody>\n</table>\n</div>",
      "text/plain": "                                                 App        Category  Rating  \\\n0     Photo Editor & Candy Camera & Grid & ScrapBook  ART_AND_DESIGN     4.1   \n1                                Coloring book moana  ART_AND_DESIGN     3.9   \n2  U Launcher Lite â€“ FREE Live Cool Themes, Hid...  ART_AND_DESIGN     4.7   \n3                              Sketch - Draw & Paint  ART_AND_DESIGN     4.5   \n4              Pixel Draw - Number Art Coloring Book  ART_AND_DESIGN     4.3   \n\n  Reviews  Size  Installs  Type Price Content Rating  \\\n0     159   19M     10000  Free     0       Everyone   \n1     967   14M    500000  Free     0       Everyone   \n2   87510  8.7M   5000000  Free     0       Everyone   \n3  215644   25M  50000000  Free     0           Teen   \n4     967  2.8M    100000  Free     0       Everyone   \n\n                      Genres         Last Updated         Current Ver  \\\n0               Art & Design  2018-01-07 00:00:00               1.0.0   \n1  Art & Design;Pretend Play  2018-01-15 00:00:00               2.0.0   \n2               Art & Design  2018-08-01 00:00:00               1.2.4   \n3               Art & Design  2018-06-08 00:00:00  Varies with device   \n4    Art & Design;Creativity  2018-06-20 00:00:00                 1.1   \n\n    Android Ver  \n0  4.0.3 and up  \n1  4.0.3 and up  \n2  4.0.3 and up  \n3    4.2 and up  \n4    4.4 and up  "
     },
     "execution_count": 48,
     "metadata": {},
     "output_type": "execute_result"
    }
   ],
   "source": [
    "df2.head()"
   ]
  },
  {
   "cell_type": "code",
   "execution_count": null,
   "metadata": {},
   "outputs": [],
   "source": [
    "range_download_size = {'10M to 20M':0,'20M to 30M':0,'30M+':0}\n",
    "for app in df2['Size']:\n",
    "    if app > '10M' and app <= '20M':\n",
    "        range_download_size['10M to 20M']+=1\n",
    "    elif app > '20M' and app <= '30M':\n",
    "        range_download_size['20M to 30M']+=1\n",
    "    else:\n",
    "        range_download_size['30M+']+=1"
   ]
  }
 ],
 "metadata": {},
 "nbformat": 4,
 "nbformat_minor": 2
}